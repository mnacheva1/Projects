{
 "cells": [
  {
   "cell_type": "code",
   "execution_count": 214,
   "metadata": {},
   "outputs": [],
   "source": [
    "import numpy as np\n",
    "import pandas as pd\n",
    "\n",
    "from sklearn import datasets\n",
    "from sklearn.model_selection import train_test_split\n",
    "\n",
    "import matplotlib.pyplot as plt\n",
    "import seaborn as sns\n",
    "\n",
    "import warnings\n",
    "warnings.filterwarnings('ignore')\n",
    "\n",
    "from functools import partialmethod\n",
    "pd.DataFrame.head = partialmethod(pd.DataFrame.head, n=5)\n",
    "\n",
    "pd.set_option('display.max_rows', 10)\n",
    "pd.set_option('display.max_columns', 50)\n",
    "\n",
    "import scipy.stats as ss\n",
    "import itertools\n",
    "\n",
    "from sklearn.metrics import precision_recall_fscore_support\n",
    "from sklearn.metrics import accuracy_score"
   ]
  },
  {
   "cell_type": "markdown",
   "metadata": {},
   "source": [
    "## Define the problem"
   ]
  },
  {
   "cell_type": "markdown",
   "metadata": {},
   "source": [
    "**Given**: \n",
    "\n",
    "Data from the Irish National Household Survey for the year 2015. \n",
    "\n",
    "The data contains information on the respondents' labour status (are they unemployed/working/studying etc), and a range of variables about their educational and demographic background (such as education level, education field, age, marital status, region of residency etc). \n",
    "\n",
    "**Goal**: Categorise respondents into unemployed/employed based on information about their educational/demographic background. \n",
    "\n",
    "    \n",
    "\n",
    "#### Description about variables:\n",
    "employed: 1=employed, 2=unemployed. \n",
    "\n",
    "sex: 1=male, 2=female \n",
    "\n",
    "marriage status: 1=single, 2=married, 3=widowed, 4=divorced\n",
    "\n",
    "nationality: 1= ireland, 2=uk, 3=eu15, 4=rest of eu, 5=usa/canada, 5=rest of world\n",
    "\n",
    "    nationality_1: almost the same\n",
    "    \n",
    "    nationality_3: almost the same \n",
    "    \n",
    "education level: \n",
    "000=no formal education, \n",
    "100=ISCED1, \n",
    "200=ISCED2, \n",
    "300=ISCED3, 303=ISCED 3, 304=ISCED3, \n",
    "400=ISCED4, \n",
    "500=ISCED5, \n",
    "600=ISCED6, \n",
    "700=SCIED7, \n",
    "800=ISCED8, \n",
    "999=Not applicable. (where ISCED1-3~Primary school, ISCED4-5~Secondary School and ISCED6-8~Tertiary level)\n",
    "\n",
    "education field: \n",
    "000= General programmes Data available from Q1 2004 to Q4 2013\n",
    "100= Teacher training and education science\n",
    "200= Humanities, languages and arts\n",
    "222= Foreign languages\n",
    "300= Social sciences, business and law\n",
    "400= Science, mathematics and computing (no distinction possible)\n",
    "420= Life science (including Biology and Environmental science)\n",
    "440= Physical science (including Physics, Chemistry and Earth\n",
    "science)\n",
    "460= Mathematics and statistics\n",
    "481= Computer science\n",
    "482= Computer use\n",
    "500= Engineering, manufacturing and construction\n",
    "600= Agriculture and veterinary\n",
    "700= Health and welfare\n",
    "800= Services\n",
    "900= Unknown\n",
    "999= Not applicable (HATLEVEL= 00,11,21,99, Blank)\n",
    "Blank No answer\n",
    "\n",
    "\n",
    "age_group:\n",
    "01= Aged 0 to 4 years\n",
    "02= Aged 5 to 9 years\n",
    "03= Aged 10 to 14 years\n",
    "04= Aged 15 to 19 years\n",
    "05= Aged 20 to 24 years\n",
    "06= Aged 25 to 29 years\n",
    "07= Aged 30 to 34 years\n",
    "08= Aged 35 to 39 years\n",
    "09= Aged 40 to 44 years\n",
    "10= Aged 45 to 49 years\n",
    "11= Aged 50 to 54 years\n",
    "12= Aged 55 to 59 years\n",
    "13= Aged 60 to 64 years\n",
    "14= Aged 65 to 69 years\n",
    "15= Aged 70 to 74 years\n",
    "16= Aged 75 to 79 years\n",
    "17= Aged 80 to 84 years\n",
    "18= Aged 85 or more\n",
    "\n",
    "household_type:\n",
    "1= Couple family unit – no children\n",
    "2= Couple family unit – with children\n",
    "3= Lone parent family unit\n",
    "9= Not applicable (FAMILYUNITGROUPNUMBER=0)\n",
    "\n",
    "region: \n",
    "01= Border, Midland and Western \n",
    "    011=Border \n",
    "    012=Midland \n",
    "    013=Western\n",
    "02= Southern and Eastern \n",
    "    021=Dublin \n",
    "    022=Mid-East \n",
    "    023=Mid-West \n",
    "    024=South-East \n",
    "    025South-West\n"
   ]
  },
  {
   "cell_type": "code",
   "execution_count": null,
   "metadata": {},
   "outputs": [],
   "source": [
    "#a1"
   ]
  },
  {
   "cell_type": "markdown",
   "metadata": {},
   "source": [
    "## Prepare the data (Data Preprocessing)"
   ]
  },
  {
   "cell_type": "markdown",
   "metadata": {},
   "source": [
    "### Load the data"
   ]
  },
  {
   "cell_type": "code",
   "execution_count": 215,
   "metadata": {},
   "outputs": [],
   "source": [
    "path_to_file = r\"C:\\Users\\mnacheva\\Desktop\\desktop\\ML\\Project\\QNHS_2015.csv\"\n",
    "df=pd.read_csv(path_to_file)"
   ]
  },
  {
   "cell_type": "code",
   "execution_count": 216,
   "metadata": {},
   "outputs": [],
   "source": [
    "#rename variables\n",
    "df.rename(columns={\"mainstat\":\"employed\", \n",
    "                   \"marstat\":\"marriage_status\",\n",
    "                   \"national_summary_x1\":\"nationality_1\",\n",
    "                   \"national_summary_x3\": \"nationality_3\",\n",
    "                   \"national_summary\":\"nationality\", \n",
    "                   \"hatlevel\":\"education_level\", \n",
    "                   \"hatfield\":\"education_field\", \n",
    "                   \"ageclass\":\"age_group\", \n",
    "                   \"familytypesummary\":\"household_type\"}, inplace=True)\n",
    "\n"
   ]
  },
  {
   "cell_type": "code",
   "execution_count": 217,
   "metadata": {},
   "outputs": [
    {
     "name": "stdout",
     "output_type": "stream",
     "text": [
      "<class 'pandas.core.frame.DataFrame'>\n",
      "RangeIndex: 95986 entries, 0 to 95985\n",
      "Data columns (total 11 columns):\n",
      "employed              95941 non-null float64\n",
      "sex                   95986 non-null int64\n",
      "marriage_status       95986 non-null int64\n",
      "nationality_1         0 non-null float64\n",
      "nationality_3         95981 non-null float64\n",
      "nationality           95985 non-null float64\n",
      "education_level       93995 non-null float64\n",
      "education_field       93816 non-null float64\n",
      "age_group             95986 non-null int64\n",
      "familytype_summary    95986 non-null int64\n",
      "region                95986 non-null int64\n",
      "dtypes: float64(6), int64(5)\n",
      "memory usage: 8.1 MB\n"
     ]
    }
   ],
   "source": [
    "df.info()\n"
   ]
  },
  {
   "cell_type": "code",
   "execution_count": 218,
   "metadata": {},
   "outputs": [],
   "source": [
    "df.drop(columns=[\"nationality_1\", \"nationality_3\"], inplace=True)"
   ]
  },
  {
   "cell_type": "markdown",
   "metadata": {},
   "source": [
    "### Clean"
   ]
  },
  {
   "cell_type": "code",
   "execution_count": 219,
   "metadata": {},
   "outputs": [],
   "source": [
    "# Target Variable: \n",
    "# Exclude values from 'employed' which indicate a status other than employed or unemployed (e.g. student or XXX)\n",
    "\n",
    "mask=np.array((df.employed==2) | (df.employed==1))\n",
    "df=df[mask]\n",
    "\n",
    "df.reset_index(inplace=True)\n",
    "df.drop(\"index\", axis=1, inplace=True)"
   ]
  },
  {
   "cell_type": "code",
   "execution_count": 220,
   "metadata": {},
   "outputs": [
    {
     "data": {
      "text/html": [
       "<div>\n",
       "<style scoped>\n",
       "    .dataframe tbody tr th:only-of-type {\n",
       "        vertical-align: middle;\n",
       "    }\n",
       "\n",
       "    .dataframe tbody tr th {\n",
       "        vertical-align: top;\n",
       "    }\n",
       "\n",
       "    .dataframe thead th {\n",
       "        text-align: right;\n",
       "    }\n",
       "</style>\n",
       "<table border=\"1\" class=\"dataframe\">\n",
       "  <thead>\n",
       "    <tr style=\"text-align: right;\">\n",
       "      <th></th>\n",
       "      <th>employed</th>\n",
       "      <th>sex</th>\n",
       "      <th>marriage_status</th>\n",
       "      <th>nationality</th>\n",
       "      <th>education_level</th>\n",
       "      <th>education_field</th>\n",
       "      <th>age_group</th>\n",
       "      <th>familytype_summary</th>\n",
       "      <th>region</th>\n",
       "    </tr>\n",
       "  </thead>\n",
       "  <tbody>\n",
       "    <tr>\n",
       "      <th>0</th>\n",
       "      <td>1.0</td>\n",
       "      <td>1</td>\n",
       "      <td>2</td>\n",
       "      <td>1.0</td>\n",
       "      <td>600.0</td>\n",
       "      <td>NaN</td>\n",
       "      <td>11</td>\n",
       "      <td>2</td>\n",
       "      <td>1</td>\n",
       "    </tr>\n",
       "    <tr>\n",
       "      <th>1</th>\n",
       "      <td>1.0</td>\n",
       "      <td>1</td>\n",
       "      <td>1</td>\n",
       "      <td>1.0</td>\n",
       "      <td>100.0</td>\n",
       "      <td>9999.0</td>\n",
       "      <td>13</td>\n",
       "      <td>9</td>\n",
       "      <td>1</td>\n",
       "    </tr>\n",
       "    <tr>\n",
       "      <th>2</th>\n",
       "      <td>1.0</td>\n",
       "      <td>1</td>\n",
       "      <td>1</td>\n",
       "      <td>1.0</td>\n",
       "      <td>100.0</td>\n",
       "      <td>9999.0</td>\n",
       "      <td>14</td>\n",
       "      <td>9</td>\n",
       "      <td>1</td>\n",
       "    </tr>\n",
       "    <tr>\n",
       "      <th>3</th>\n",
       "      <td>1.0</td>\n",
       "      <td>1</td>\n",
       "      <td>2</td>\n",
       "      <td>1.0</td>\n",
       "      <td>304.0</td>\n",
       "      <td>0.0</td>\n",
       "      <td>13</td>\n",
       "      <td>1</td>\n",
       "      <td>2</td>\n",
       "    </tr>\n",
       "    <tr>\n",
       "      <th>4</th>\n",
       "      <td>1.0</td>\n",
       "      <td>2</td>\n",
       "      <td>1</td>\n",
       "      <td>1.0</td>\n",
       "      <td>304.0</td>\n",
       "      <td>0.0</td>\n",
       "      <td>7</td>\n",
       "      <td>3</td>\n",
       "      <td>2</td>\n",
       "    </tr>\n",
       "  </tbody>\n",
       "</table>\n",
       "</div>"
      ],
      "text/plain": [
       "   employed  sex  marriage_status  nationality  education_level  \\\n",
       "0       1.0    1                2          1.0            600.0   \n",
       "1       1.0    1                1          1.0            100.0   \n",
       "2       1.0    1                1          1.0            100.0   \n",
       "3       1.0    1                2          1.0            304.0   \n",
       "4       1.0    2                1          1.0            304.0   \n",
       "\n",
       "   education_field  age_group  familytype_summary  region  \n",
       "0              NaN         11                   2       1  \n",
       "1           9999.0         13                   9       1  \n",
       "2           9999.0         14                   9       1  \n",
       "3              0.0         13                   1       2  \n",
       "4              0.0          7                   3       2  "
      ]
     },
     "execution_count": 220,
     "metadata": {},
     "output_type": "execute_result"
    }
   ],
   "source": [
    "df.head()"
   ]
  },
  {
   "cell_type": "code",
   "execution_count": 221,
   "metadata": {},
   "outputs": [
    {
     "name": "stdout",
     "output_type": "stream",
     "text": [
      "unique values:\n",
      "employed [1.0, 2.0]\n",
      "unique values:\n",
      "sex [1, 2]\n",
      "unique values:\n",
      "marriage_status [2, 1, 4, 3]\n",
      "unique values:\n",
      "nationality [1.0, 3.0, 4.0, 6.0, 2.0, 5.0]\n",
      "unique values:\n",
      "education_level [600.0, 100.0, 304.0, 200.0, 700.0, 400.0, 500.0, 300.0, nan, 0.0, 800.0, 303.0]\n",
      "unique values:\n",
      "education_field [nan, 9999.0, 0.0, 300.0, 500.0, 600.0, 800.0, 100.0, 420.0, 700.0, 222.0, 200.0, 460.0, 900.0, 482.0, 481.0, 440.0]\n",
      "unique values:\n",
      "age_group [11, 13, 14, 7, 6, 10, 12, 15, 8, 9, 5, 4, 16, 17, 18]\n",
      "unique values:\n",
      "familytype_summary [2, 9, 1, 3]\n",
      "unique values:\n",
      "region [1, 2]\n"
     ]
    }
   ],
   "source": [
    "#NTS: Do with lambda\n",
    "for column in df: \n",
    "    print(\"unique values:\")\n",
    "    print(column, list(pd.Series(df[column]).drop_duplicates()))\n",
    "    "
   ]
  },
  {
   "cell_type": "code",
   "execution_count": 222,
   "metadata": {
    "scrolled": true
   },
   "outputs": [
    {
     "data": {
      "text/html": [
       "<div>\n",
       "<style scoped>\n",
       "    .dataframe tbody tr th:only-of-type {\n",
       "        vertical-align: middle;\n",
       "    }\n",
       "\n",
       "    .dataframe tbody tr th {\n",
       "        vertical-align: top;\n",
       "    }\n",
       "\n",
       "    .dataframe thead th {\n",
       "        text-align: right;\n",
       "    }\n",
       "</style>\n",
       "<table border=\"1\" class=\"dataframe\">\n",
       "  <thead>\n",
       "    <tr style=\"text-align: right;\">\n",
       "      <th></th>\n",
       "      <th>employed</th>\n",
       "      <th>sex</th>\n",
       "      <th>marriage_status</th>\n",
       "      <th>nationality</th>\n",
       "      <th>education_level</th>\n",
       "      <th>education_field</th>\n",
       "      <th>age_group</th>\n",
       "      <th>familytype_summary</th>\n",
       "      <th>region</th>\n",
       "    </tr>\n",
       "  </thead>\n",
       "  <tbody>\n",
       "    <tr>\n",
       "      <th>0.0</th>\n",
       "      <td>NaN</td>\n",
       "      <td>NaN</td>\n",
       "      <td>NaN</td>\n",
       "      <td>NaN</td>\n",
       "      <td>0.001572</td>\n",
       "      <td>0.254664</td>\n",
       "      <td>NaN</td>\n",
       "      <td>NaN</td>\n",
       "      <td>NaN</td>\n",
       "    </tr>\n",
       "    <tr>\n",
       "      <th>1.0</th>\n",
       "      <td>0.891633</td>\n",
       "      <td>0.551391</td>\n",
       "      <td>0.372856</td>\n",
       "      <td>0.881731</td>\n",
       "      <td>NaN</td>\n",
       "      <td>NaN</td>\n",
       "      <td>NaN</td>\n",
       "      <td>0.183566</td>\n",
       "      <td>0.246878</td>\n",
       "    </tr>\n",
       "    <tr>\n",
       "      <th>2.0</th>\n",
       "      <td>0.108367</td>\n",
       "      <td>0.448609</td>\n",
       "      <td>0.565493</td>\n",
       "      <td>0.017842</td>\n",
       "      <td>NaN</td>\n",
       "      <td>NaN</td>\n",
       "      <td>NaN</td>\n",
       "      <td>0.564732</td>\n",
       "      <td>0.753122</td>\n",
       "    </tr>\n",
       "    <tr>\n",
       "      <th>3.0</th>\n",
       "      <td>NaN</td>\n",
       "      <td>NaN</td>\n",
       "      <td>0.014611</td>\n",
       "      <td>0.016157</td>\n",
       "      <td>NaN</td>\n",
       "      <td>NaN</td>\n",
       "      <td>NaN</td>\n",
       "      <td>0.099573</td>\n",
       "      <td>NaN</td>\n",
       "    </tr>\n",
       "    <tr>\n",
       "      <th>4.0</th>\n",
       "      <td>NaN</td>\n",
       "      <td>NaN</td>\n",
       "      <td>0.047040</td>\n",
       "      <td>0.060358</td>\n",
       "      <td>NaN</td>\n",
       "      <td>NaN</td>\n",
       "      <td>0.012141</td>\n",
       "      <td>NaN</td>\n",
       "      <td>NaN</td>\n",
       "    </tr>\n",
       "    <tr>\n",
       "      <th>5.0</th>\n",
       "      <td>NaN</td>\n",
       "      <td>NaN</td>\n",
       "      <td>NaN</td>\n",
       "      <td>0.001754</td>\n",
       "      <td>NaN</td>\n",
       "      <td>NaN</td>\n",
       "      <td>0.065020</td>\n",
       "      <td>NaN</td>\n",
       "      <td>NaN</td>\n",
       "    </tr>\n",
       "    <tr>\n",
       "      <th>6.0</th>\n",
       "      <td>NaN</td>\n",
       "      <td>NaN</td>\n",
       "      <td>NaN</td>\n",
       "      <td>0.022158</td>\n",
       "      <td>NaN</td>\n",
       "      <td>NaN</td>\n",
       "      <td>0.095049</td>\n",
       "      <td>NaN</td>\n",
       "      <td>NaN</td>\n",
       "    </tr>\n",
       "    <tr>\n",
       "      <th>7.0</th>\n",
       "      <td>NaN</td>\n",
       "      <td>NaN</td>\n",
       "      <td>NaN</td>\n",
       "      <td>NaN</td>\n",
       "      <td>NaN</td>\n",
       "      <td>NaN</td>\n",
       "      <td>0.125516</td>\n",
       "      <td>NaN</td>\n",
       "      <td>NaN</td>\n",
       "    </tr>\n",
       "    <tr>\n",
       "      <th>8.0</th>\n",
       "      <td>NaN</td>\n",
       "      <td>NaN</td>\n",
       "      <td>NaN</td>\n",
       "      <td>NaN</td>\n",
       "      <td>NaN</td>\n",
       "      <td>NaN</td>\n",
       "      <td>0.136780</td>\n",
       "      <td>NaN</td>\n",
       "      <td>NaN</td>\n",
       "    </tr>\n",
       "    <tr>\n",
       "      <th>9.0</th>\n",
       "      <td>NaN</td>\n",
       "      <td>NaN</td>\n",
       "      <td>NaN</td>\n",
       "      <td>NaN</td>\n",
       "      <td>NaN</td>\n",
       "      <td>NaN</td>\n",
       "      <td>0.136896</td>\n",
       "      <td>0.152129</td>\n",
       "      <td>NaN</td>\n",
       "    </tr>\n",
       "    <tr>\n",
       "      <th>10.0</th>\n",
       "      <td>NaN</td>\n",
       "      <td>NaN</td>\n",
       "      <td>NaN</td>\n",
       "      <td>NaN</td>\n",
       "      <td>NaN</td>\n",
       "      <td>NaN</td>\n",
       "      <td>0.125470</td>\n",
       "      <td>NaN</td>\n",
       "      <td>NaN</td>\n",
       "    </tr>\n",
       "    <tr>\n",
       "      <th>11.0</th>\n",
       "      <td>NaN</td>\n",
       "      <td>NaN</td>\n",
       "      <td>NaN</td>\n",
       "      <td>NaN</td>\n",
       "      <td>NaN</td>\n",
       "      <td>NaN</td>\n",
       "      <td>0.115084</td>\n",
       "      <td>NaN</td>\n",
       "      <td>NaN</td>\n",
       "    </tr>\n",
       "    <tr>\n",
       "      <th>12.0</th>\n",
       "      <td>NaN</td>\n",
       "      <td>NaN</td>\n",
       "      <td>NaN</td>\n",
       "      <td>NaN</td>\n",
       "      <td>NaN</td>\n",
       "      <td>NaN</td>\n",
       "      <td>0.092118</td>\n",
       "      <td>NaN</td>\n",
       "      <td>NaN</td>\n",
       "    </tr>\n",
       "    <tr>\n",
       "      <th>13.0</th>\n",
       "      <td>NaN</td>\n",
       "      <td>NaN</td>\n",
       "      <td>NaN</td>\n",
       "      <td>NaN</td>\n",
       "      <td>NaN</td>\n",
       "      <td>NaN</td>\n",
       "      <td>0.062135</td>\n",
       "      <td>NaN</td>\n",
       "      <td>NaN</td>\n",
       "    </tr>\n",
       "    <tr>\n",
       "      <th>14.0</th>\n",
       "      <td>NaN</td>\n",
       "      <td>NaN</td>\n",
       "      <td>NaN</td>\n",
       "      <td>NaN</td>\n",
       "      <td>NaN</td>\n",
       "      <td>NaN</td>\n",
       "      <td>0.021027</td>\n",
       "      <td>NaN</td>\n",
       "      <td>NaN</td>\n",
       "    </tr>\n",
       "    <tr>\n",
       "      <th>15.0</th>\n",
       "      <td>NaN</td>\n",
       "      <td>NaN</td>\n",
       "      <td>NaN</td>\n",
       "      <td>NaN</td>\n",
       "      <td>NaN</td>\n",
       "      <td>NaN</td>\n",
       "      <td>0.007271</td>\n",
       "      <td>NaN</td>\n",
       "      <td>NaN</td>\n",
       "    </tr>\n",
       "    <tr>\n",
       "      <th>16.0</th>\n",
       "      <td>NaN</td>\n",
       "      <td>NaN</td>\n",
       "      <td>NaN</td>\n",
       "      <td>NaN</td>\n",
       "      <td>NaN</td>\n",
       "      <td>NaN</td>\n",
       "      <td>0.003439</td>\n",
       "      <td>NaN</td>\n",
       "      <td>NaN</td>\n",
       "    </tr>\n",
       "    <tr>\n",
       "      <th>17.0</th>\n",
       "      <td>NaN</td>\n",
       "      <td>NaN</td>\n",
       "      <td>NaN</td>\n",
       "      <td>NaN</td>\n",
       "      <td>NaN</td>\n",
       "      <td>NaN</td>\n",
       "      <td>0.001362</td>\n",
       "      <td>NaN</td>\n",
       "      <td>NaN</td>\n",
       "    </tr>\n",
       "    <tr>\n",
       "      <th>18.0</th>\n",
       "      <td>NaN</td>\n",
       "      <td>NaN</td>\n",
       "      <td>NaN</td>\n",
       "      <td>NaN</td>\n",
       "      <td>NaN</td>\n",
       "      <td>NaN</td>\n",
       "      <td>0.000692</td>\n",
       "      <td>NaN</td>\n",
       "      <td>NaN</td>\n",
       "    </tr>\n",
       "    <tr>\n",
       "      <th>100.0</th>\n",
       "      <td>NaN</td>\n",
       "      <td>NaN</td>\n",
       "      <td>NaN</td>\n",
       "      <td>NaN</td>\n",
       "      <td>0.062755</td>\n",
       "      <td>0.037166</td>\n",
       "      <td>NaN</td>\n",
       "      <td>NaN</td>\n",
       "      <td>NaN</td>\n",
       "    </tr>\n",
       "    <tr>\n",
       "      <th>200.0</th>\n",
       "      <td>NaN</td>\n",
       "      <td>NaN</td>\n",
       "      <td>NaN</td>\n",
       "      <td>NaN</td>\n",
       "      <td>0.113339</td>\n",
       "      <td>0.033541</td>\n",
       "      <td>NaN</td>\n",
       "      <td>NaN</td>\n",
       "      <td>NaN</td>\n",
       "    </tr>\n",
       "    <tr>\n",
       "      <th>222.0</th>\n",
       "      <td>NaN</td>\n",
       "      <td>NaN</td>\n",
       "      <td>NaN</td>\n",
       "      <td>NaN</td>\n",
       "      <td>NaN</td>\n",
       "      <td>0.003529</td>\n",
       "      <td>NaN</td>\n",
       "      <td>NaN</td>\n",
       "      <td>NaN</td>\n",
       "    </tr>\n",
       "    <tr>\n",
       "      <th>300.0</th>\n",
       "      <td>NaN</td>\n",
       "      <td>NaN</td>\n",
       "      <td>NaN</td>\n",
       "      <td>NaN</td>\n",
       "      <td>0.017433</td>\n",
       "      <td>0.162085</td>\n",
       "      <td>NaN</td>\n",
       "      <td>NaN</td>\n",
       "      <td>NaN</td>\n",
       "    </tr>\n",
       "    <tr>\n",
       "      <th>303.0</th>\n",
       "      <td>NaN</td>\n",
       "      <td>NaN</td>\n",
       "      <td>NaN</td>\n",
       "      <td>NaN</td>\n",
       "      <td>0.003048</td>\n",
       "      <td>NaN</td>\n",
       "      <td>NaN</td>\n",
       "      <td>NaN</td>\n",
       "      <td>NaN</td>\n",
       "    </tr>\n",
       "    <tr>\n",
       "      <th>304.0</th>\n",
       "      <td>NaN</td>\n",
       "      <td>NaN</td>\n",
       "      <td>NaN</td>\n",
       "      <td>NaN</td>\n",
       "      <td>0.225321</td>\n",
       "      <td>NaN</td>\n",
       "      <td>NaN</td>\n",
       "      <td>NaN</td>\n",
       "      <td>NaN</td>\n",
       "    </tr>\n",
       "    <tr>\n",
       "      <th>400.0</th>\n",
       "      <td>NaN</td>\n",
       "      <td>NaN</td>\n",
       "      <td>NaN</td>\n",
       "      <td>NaN</td>\n",
       "      <td>0.130463</td>\n",
       "      <td>NaN</td>\n",
       "      <td>NaN</td>\n",
       "      <td>NaN</td>\n",
       "      <td>NaN</td>\n",
       "    </tr>\n",
       "    <tr>\n",
       "      <th>420.0</th>\n",
       "      <td>NaN</td>\n",
       "      <td>NaN</td>\n",
       "      <td>NaN</td>\n",
       "      <td>NaN</td>\n",
       "      <td>NaN</td>\n",
       "      <td>0.007683</td>\n",
       "      <td>NaN</td>\n",
       "      <td>NaN</td>\n",
       "      <td>NaN</td>\n",
       "    </tr>\n",
       "    <tr>\n",
       "      <th>440.0</th>\n",
       "      <td>NaN</td>\n",
       "      <td>NaN</td>\n",
       "      <td>NaN</td>\n",
       "      <td>NaN</td>\n",
       "      <td>NaN</td>\n",
       "      <td>0.007563</td>\n",
       "      <td>NaN</td>\n",
       "      <td>NaN</td>\n",
       "      <td>NaN</td>\n",
       "    </tr>\n",
       "    <tr>\n",
       "      <th>460.0</th>\n",
       "      <td>NaN</td>\n",
       "      <td>NaN</td>\n",
       "      <td>NaN</td>\n",
       "      <td>NaN</td>\n",
       "      <td>NaN</td>\n",
       "      <td>0.003433</td>\n",
       "      <td>NaN</td>\n",
       "      <td>NaN</td>\n",
       "      <td>NaN</td>\n",
       "    </tr>\n",
       "    <tr>\n",
       "      <th>481.0</th>\n",
       "      <td>NaN</td>\n",
       "      <td>NaN</td>\n",
       "      <td>NaN</td>\n",
       "      <td>NaN</td>\n",
       "      <td>NaN</td>\n",
       "      <td>0.013805</td>\n",
       "      <td>NaN</td>\n",
       "      <td>NaN</td>\n",
       "      <td>NaN</td>\n",
       "    </tr>\n",
       "    <tr>\n",
       "      <th>482.0</th>\n",
       "      <td>NaN</td>\n",
       "      <td>NaN</td>\n",
       "      <td>NaN</td>\n",
       "      <td>NaN</td>\n",
       "      <td>NaN</td>\n",
       "      <td>0.006362</td>\n",
       "      <td>NaN</td>\n",
       "      <td>NaN</td>\n",
       "      <td>NaN</td>\n",
       "    </tr>\n",
       "    <tr>\n",
       "      <th>500.0</th>\n",
       "      <td>NaN</td>\n",
       "      <td>NaN</td>\n",
       "      <td>NaN</td>\n",
       "      <td>NaN</td>\n",
       "      <td>0.130129</td>\n",
       "      <td>0.104895</td>\n",
       "      <td>NaN</td>\n",
       "      <td>NaN</td>\n",
       "      <td>NaN</td>\n",
       "    </tr>\n",
       "    <tr>\n",
       "      <th>600.0</th>\n",
       "      <td>NaN</td>\n",
       "      <td>NaN</td>\n",
       "      <td>NaN</td>\n",
       "      <td>NaN</td>\n",
       "      <td>0.224749</td>\n",
       "      <td>0.021512</td>\n",
       "      <td>NaN</td>\n",
       "      <td>NaN</td>\n",
       "      <td>NaN</td>\n",
       "    </tr>\n",
       "    <tr>\n",
       "      <th>700.0</th>\n",
       "      <td>NaN</td>\n",
       "      <td>NaN</td>\n",
       "      <td>NaN</td>\n",
       "      <td>NaN</td>\n",
       "      <td>0.081474</td>\n",
       "      <td>0.079014</td>\n",
       "      <td>NaN</td>\n",
       "      <td>NaN</td>\n",
       "      <td>NaN</td>\n",
       "    </tr>\n",
       "    <tr>\n",
       "      <th>800.0</th>\n",
       "      <td>NaN</td>\n",
       "      <td>NaN</td>\n",
       "      <td>NaN</td>\n",
       "      <td>NaN</td>\n",
       "      <td>0.009717</td>\n",
       "      <td>0.046241</td>\n",
       "      <td>NaN</td>\n",
       "      <td>NaN</td>\n",
       "      <td>NaN</td>\n",
       "    </tr>\n",
       "    <tr>\n",
       "      <th>900.0</th>\n",
       "      <td>NaN</td>\n",
       "      <td>NaN</td>\n",
       "      <td>NaN</td>\n",
       "      <td>NaN</td>\n",
       "      <td>NaN</td>\n",
       "      <td>0.007323</td>\n",
       "      <td>NaN</td>\n",
       "      <td>NaN</td>\n",
       "      <td>NaN</td>\n",
       "    </tr>\n",
       "    <tr>\n",
       "      <th>9999.0</th>\n",
       "      <td>NaN</td>\n",
       "      <td>NaN</td>\n",
       "      <td>NaN</td>\n",
       "      <td>NaN</td>\n",
       "      <td>NaN</td>\n",
       "      <td>0.211183</td>\n",
       "      <td>NaN</td>\n",
       "      <td>NaN</td>\n",
       "      <td>NaN</td>\n",
       "    </tr>\n",
       "  </tbody>\n",
       "</table>\n",
       "</div>"
      ],
      "text/plain": [
       "        employed       sex  marriage_status  nationality  education_level  \\\n",
       "0.0          NaN       NaN              NaN          NaN         0.001572   \n",
       "1.0     0.891633  0.551391         0.372856     0.881731              NaN   \n",
       "2.0     0.108367  0.448609         0.565493     0.017842              NaN   \n",
       "3.0          NaN       NaN         0.014611     0.016157              NaN   \n",
       "4.0          NaN       NaN         0.047040     0.060358              NaN   \n",
       "5.0          NaN       NaN              NaN     0.001754              NaN   \n",
       "6.0          NaN       NaN              NaN     0.022158              NaN   \n",
       "7.0          NaN       NaN              NaN          NaN              NaN   \n",
       "8.0          NaN       NaN              NaN          NaN              NaN   \n",
       "9.0          NaN       NaN              NaN          NaN              NaN   \n",
       "10.0         NaN       NaN              NaN          NaN              NaN   \n",
       "11.0         NaN       NaN              NaN          NaN              NaN   \n",
       "12.0         NaN       NaN              NaN          NaN              NaN   \n",
       "13.0         NaN       NaN              NaN          NaN              NaN   \n",
       "14.0         NaN       NaN              NaN          NaN              NaN   \n",
       "15.0         NaN       NaN              NaN          NaN              NaN   \n",
       "16.0         NaN       NaN              NaN          NaN              NaN   \n",
       "17.0         NaN       NaN              NaN          NaN              NaN   \n",
       "18.0         NaN       NaN              NaN          NaN              NaN   \n",
       "100.0        NaN       NaN              NaN          NaN         0.062755   \n",
       "200.0        NaN       NaN              NaN          NaN         0.113339   \n",
       "222.0        NaN       NaN              NaN          NaN              NaN   \n",
       "300.0        NaN       NaN              NaN          NaN         0.017433   \n",
       "303.0        NaN       NaN              NaN          NaN         0.003048   \n",
       "304.0        NaN       NaN              NaN          NaN         0.225321   \n",
       "400.0        NaN       NaN              NaN          NaN         0.130463   \n",
       "420.0        NaN       NaN              NaN          NaN              NaN   \n",
       "440.0        NaN       NaN              NaN          NaN              NaN   \n",
       "460.0        NaN       NaN              NaN          NaN              NaN   \n",
       "481.0        NaN       NaN              NaN          NaN              NaN   \n",
       "482.0        NaN       NaN              NaN          NaN              NaN   \n",
       "500.0        NaN       NaN              NaN          NaN         0.130129   \n",
       "600.0        NaN       NaN              NaN          NaN         0.224749   \n",
       "700.0        NaN       NaN              NaN          NaN         0.081474   \n",
       "800.0        NaN       NaN              NaN          NaN         0.009717   \n",
       "900.0        NaN       NaN              NaN          NaN              NaN   \n",
       "9999.0       NaN       NaN              NaN          NaN              NaN   \n",
       "\n",
       "        education_field  age_group  familytype_summary    region  \n",
       "0.0            0.254664        NaN                 NaN       NaN  \n",
       "1.0                 NaN        NaN            0.183566  0.246878  \n",
       "2.0                 NaN        NaN            0.564732  0.753122  \n",
       "3.0                 NaN        NaN            0.099573       NaN  \n",
       "4.0                 NaN   0.012141                 NaN       NaN  \n",
       "5.0                 NaN   0.065020                 NaN       NaN  \n",
       "6.0                 NaN   0.095049                 NaN       NaN  \n",
       "7.0                 NaN   0.125516                 NaN       NaN  \n",
       "8.0                 NaN   0.136780                 NaN       NaN  \n",
       "9.0                 NaN   0.136896            0.152129       NaN  \n",
       "10.0                NaN   0.125470                 NaN       NaN  \n",
       "11.0                NaN   0.115084                 NaN       NaN  \n",
       "12.0                NaN   0.092118                 NaN       NaN  \n",
       "13.0                NaN   0.062135                 NaN       NaN  \n",
       "14.0                NaN   0.021027                 NaN       NaN  \n",
       "15.0                NaN   0.007271                 NaN       NaN  \n",
       "16.0                NaN   0.003439                 NaN       NaN  \n",
       "17.0                NaN   0.001362                 NaN       NaN  \n",
       "18.0                NaN   0.000692                 NaN       NaN  \n",
       "100.0          0.037166        NaN                 NaN       NaN  \n",
       "200.0          0.033541        NaN                 NaN       NaN  \n",
       "222.0          0.003529        NaN                 NaN       NaN  \n",
       "300.0          0.162085        NaN                 NaN       NaN  \n",
       "303.0               NaN        NaN                 NaN       NaN  \n",
       "304.0               NaN        NaN                 NaN       NaN  \n",
       "400.0               NaN        NaN                 NaN       NaN  \n",
       "420.0          0.007683        NaN                 NaN       NaN  \n",
       "440.0          0.007563        NaN                 NaN       NaN  \n",
       "460.0          0.003433        NaN                 NaN       NaN  \n",
       "481.0          0.013805        NaN                 NaN       NaN  \n",
       "482.0          0.006362        NaN                 NaN       NaN  \n",
       "500.0          0.104895        NaN                 NaN       NaN  \n",
       "600.0          0.021512        NaN                 NaN       NaN  \n",
       "700.0          0.079014        NaN                 NaN       NaN  \n",
       "800.0          0.046241        NaN                 NaN       NaN  \n",
       "900.0          0.007323        NaN                 NaN       NaN  \n",
       "9999.0         0.211183        NaN                 NaN       NaN  "
      ]
     },
     "metadata": {},
     "output_type": "display_data"
    },
    {
     "data": {
      "text/html": [
       "<div>\n",
       "<style scoped>\n",
       "    .dataframe tbody tr th:only-of-type {\n",
       "        vertical-align: middle;\n",
       "    }\n",
       "\n",
       "    .dataframe tbody tr th {\n",
       "        vertical-align: top;\n",
       "    }\n",
       "\n",
       "    .dataframe thead th {\n",
       "        text-align: right;\n",
       "    }\n",
       "</style>\n",
       "<table border=\"1\" class=\"dataframe\">\n",
       "  <thead>\n",
       "    <tr style=\"text-align: right;\">\n",
       "      <th></th>\n",
       "      <th>employed</th>\n",
       "      <th>sex</th>\n",
       "      <th>marriage_status</th>\n",
       "      <th>nationality</th>\n",
       "      <th>education_level</th>\n",
       "      <th>education_field</th>\n",
       "      <th>age_group</th>\n",
       "      <th>familytype_summary</th>\n",
       "      <th>region</th>\n",
       "    </tr>\n",
       "  </thead>\n",
       "  <tbody>\n",
       "    <tr>\n",
       "      <th>0.0</th>\n",
       "      <td>NaN</td>\n",
       "      <td>NaN</td>\n",
       "      <td>NaN</td>\n",
       "      <td>NaN</td>\n",
       "      <td>0.001572</td>\n",
       "      <td>0.254664</td>\n",
       "      <td>NaN</td>\n",
       "      <td>NaN</td>\n",
       "      <td>NaN</td>\n",
       "    </tr>\n",
       "    <tr>\n",
       "      <th>1.0</th>\n",
       "      <td>0.891633</td>\n",
       "      <td>0.551391</td>\n",
       "      <td>0.372856</td>\n",
       "      <td>0.881731</td>\n",
       "      <td>NaN</td>\n",
       "      <td>NaN</td>\n",
       "      <td>NaN</td>\n",
       "      <td>0.183566</td>\n",
       "      <td>0.246878</td>\n",
       "    </tr>\n",
       "    <tr>\n",
       "      <th>2.0</th>\n",
       "      <td>0.108367</td>\n",
       "      <td>0.448609</td>\n",
       "      <td>0.565493</td>\n",
       "      <td>0.017842</td>\n",
       "      <td>NaN</td>\n",
       "      <td>NaN</td>\n",
       "      <td>NaN</td>\n",
       "      <td>0.564732</td>\n",
       "      <td>0.753122</td>\n",
       "    </tr>\n",
       "    <tr>\n",
       "      <th>3.0</th>\n",
       "      <td>NaN</td>\n",
       "      <td>NaN</td>\n",
       "      <td>0.014611</td>\n",
       "      <td>0.016157</td>\n",
       "      <td>NaN</td>\n",
       "      <td>NaN</td>\n",
       "      <td>NaN</td>\n",
       "      <td>0.099573</td>\n",
       "      <td>NaN</td>\n",
       "    </tr>\n",
       "    <tr>\n",
       "      <th>4.0</th>\n",
       "      <td>NaN</td>\n",
       "      <td>NaN</td>\n",
       "      <td>0.047040</td>\n",
       "      <td>0.060358</td>\n",
       "      <td>NaN</td>\n",
       "      <td>NaN</td>\n",
       "      <td>0.012141</td>\n",
       "      <td>NaN</td>\n",
       "      <td>NaN</td>\n",
       "    </tr>\n",
       "    <tr>\n",
       "      <th>...</th>\n",
       "      <td>...</td>\n",
       "      <td>...</td>\n",
       "      <td>...</td>\n",
       "      <td>...</td>\n",
       "      <td>...</td>\n",
       "      <td>...</td>\n",
       "      <td>...</td>\n",
       "      <td>...</td>\n",
       "      <td>...</td>\n",
       "    </tr>\n",
       "    <tr>\n",
       "      <th>600.0</th>\n",
       "      <td>NaN</td>\n",
       "      <td>NaN</td>\n",
       "      <td>NaN</td>\n",
       "      <td>NaN</td>\n",
       "      <td>0.224749</td>\n",
       "      <td>0.021512</td>\n",
       "      <td>NaN</td>\n",
       "      <td>NaN</td>\n",
       "      <td>NaN</td>\n",
       "    </tr>\n",
       "    <tr>\n",
       "      <th>700.0</th>\n",
       "      <td>NaN</td>\n",
       "      <td>NaN</td>\n",
       "      <td>NaN</td>\n",
       "      <td>NaN</td>\n",
       "      <td>0.081474</td>\n",
       "      <td>0.079014</td>\n",
       "      <td>NaN</td>\n",
       "      <td>NaN</td>\n",
       "      <td>NaN</td>\n",
       "    </tr>\n",
       "    <tr>\n",
       "      <th>800.0</th>\n",
       "      <td>NaN</td>\n",
       "      <td>NaN</td>\n",
       "      <td>NaN</td>\n",
       "      <td>NaN</td>\n",
       "      <td>0.009717</td>\n",
       "      <td>0.046241</td>\n",
       "      <td>NaN</td>\n",
       "      <td>NaN</td>\n",
       "      <td>NaN</td>\n",
       "    </tr>\n",
       "    <tr>\n",
       "      <th>900.0</th>\n",
       "      <td>NaN</td>\n",
       "      <td>NaN</td>\n",
       "      <td>NaN</td>\n",
       "      <td>NaN</td>\n",
       "      <td>NaN</td>\n",
       "      <td>0.007323</td>\n",
       "      <td>NaN</td>\n",
       "      <td>NaN</td>\n",
       "      <td>NaN</td>\n",
       "    </tr>\n",
       "    <tr>\n",
       "      <th>9999.0</th>\n",
       "      <td>NaN</td>\n",
       "      <td>NaN</td>\n",
       "      <td>NaN</td>\n",
       "      <td>NaN</td>\n",
       "      <td>NaN</td>\n",
       "      <td>0.211183</td>\n",
       "      <td>NaN</td>\n",
       "      <td>NaN</td>\n",
       "      <td>NaN</td>\n",
       "    </tr>\n",
       "  </tbody>\n",
       "</table>\n",
       "<p>37 rows × 9 columns</p>\n",
       "</div>"
      ],
      "text/plain": [
       "        employed       sex  marriage_status  nationality  education_level  \\\n",
       "0.0          NaN       NaN              NaN          NaN         0.001572   \n",
       "1.0     0.891633  0.551391         0.372856     0.881731              NaN   \n",
       "2.0     0.108367  0.448609         0.565493     0.017842              NaN   \n",
       "3.0          NaN       NaN         0.014611     0.016157              NaN   \n",
       "4.0          NaN       NaN         0.047040     0.060358              NaN   \n",
       "...          ...       ...              ...          ...              ...   \n",
       "600.0        NaN       NaN              NaN          NaN         0.224749   \n",
       "700.0        NaN       NaN              NaN          NaN         0.081474   \n",
       "800.0        NaN       NaN              NaN          NaN         0.009717   \n",
       "900.0        NaN       NaN              NaN          NaN              NaN   \n",
       "9999.0       NaN       NaN              NaN          NaN              NaN   \n",
       "\n",
       "        education_field  age_group  familytype_summary    region  \n",
       "0.0            0.254664        NaN                 NaN       NaN  \n",
       "1.0                 NaN        NaN            0.183566  0.246878  \n",
       "2.0                 NaN        NaN            0.564732  0.753122  \n",
       "3.0                 NaN        NaN            0.099573       NaN  \n",
       "4.0                 NaN   0.012141                 NaN       NaN  \n",
       "...                 ...        ...                 ...       ...  \n",
       "600.0          0.021512        NaN                 NaN       NaN  \n",
       "700.0          0.079014        NaN                 NaN       NaN  \n",
       "800.0          0.046241        NaN                 NaN       NaN  \n",
       "900.0          0.007323        NaN                 NaN       NaN  \n",
       "9999.0         0.211183        NaN                 NaN       NaN  \n",
       "\n",
       "[37 rows x 9 columns]"
      ]
     },
     "execution_count": 222,
     "metadata": {},
     "output_type": "execute_result"
    }
   ],
   "source": [
    "#Show unique values for each column and rate of occurance. \n",
    "df_unique=df.apply(pd.Series.value_counts, normalize=True)\n",
    "with pd.option_context(\"display.max_rows\",100):display(df_unique)\n",
    "df_unique"
   ]
  },
  {
   "cell_type": "code",
   "execution_count": 223,
   "metadata": {},
   "outputs": [
    {
     "data": {
      "text/plain": [
       "employed                 0\n",
       "sex                      0\n",
       "marriage_status          0\n",
       "nationality              0\n",
       "education_level       1336\n",
       "education_field       1674\n",
       "age_group                0\n",
       "familytype_summary       0\n",
       "region                   0\n",
       "dtype: int64"
      ]
     },
     "execution_count": 223,
     "metadata": {},
     "output_type": "execute_result"
    }
   ],
   "source": [
    "df.isna().sum()"
   ]
  },
  {
   "cell_type": "code",
   "execution_count": 224,
   "metadata": {},
   "outputs": [
    {
     "data": {
      "text/plain": [
       "employed              0\n",
       "sex                   0\n",
       "marriage_status       0\n",
       "nationality           0\n",
       "education_level       0\n",
       "education_field       0\n",
       "age_group             0\n",
       "familytype_summary    0\n",
       "region                0\n",
       "dtype: int64"
      ]
     },
     "execution_count": 224,
     "metadata": {},
     "output_type": "execute_result"
    }
   ],
   "source": [
    "# fill empty cells with mode values \n",
    "for c in df.columns:\n",
    "    df[c].fillna(int(df[c].mode()), inplace=True)\n",
    "df.isna().sum()\n"
   ]
  },
  {
   "cell_type": "markdown",
   "metadata": {},
   "source": [
    "#### Visualize with Seaborn"
   ]
  },
  {
   "cell_type": "code",
   "execution_count": 225,
   "metadata": {},
   "outputs": [
    {
     "data": {
      "image/png": "[encoded data removed]",
      "text/plain": [
       "<Figure size 432x288 with 1 Axes>"
      ]
     },
     "metadata": {
      "needs_background": "light"
     },
     "output_type": "display_data"
    },
    {
     "data": {
      "image/png": "[encoded data removed]",
      "text/plain": [
       "<Figure size 432x288 with 1 Axes>"
      ]
     },
     "metadata": {
      "needs_background": "light"
     },
     "output_type": "display_data"
    },
    {
     "data": {
      "image/png": "[encoded data removed]",
      "text/plain": [
       "<Figure size 432x288 with 1 Axes>"
      ]
     },
     "metadata": {
      "needs_background": "light"
     },
     "output_type": "display_data"
    },
    {
     "data": {
      "image/png": "[encoded data removed]",
      "text/plain": [
       "<Figure size 432x288 with 1 Axes>"
      ]
     },
     "metadata": {
      "needs_background": "light"
     },
     "output_type": "display_data"
    },
    {
     "data": {
      "image/png": "[encoded data removed]",
      "text/plain": [
       "<Figure size 432x288 with 1 Axes>"
      ]
     },
     "metadata": {
      "needs_background": "light"
     },
     "output_type": "display_data"
    },
    {
     "data": {
      "image/png": "[encoded data removed]",
      "text/plain": [
       "<Figure size 432x288 with 1 Axes>"
      ]
     },
     "metadata": {
      "needs_background": "light"
     },
     "output_type": "display_data"
    },
    {
     "data": {
      "image/png": "[encoded data removed]",
      "text/plain": [
       "<Figure size 432x288 with 1 Axes>"
      ]
     },
     "metadata": {
      "needs_background": "light"
     },
     "output_type": "display_data"
    },
    {
     "data": {
      "image/png": "[encoded data removed]",
      "text/plain": [
       "<Figure size 432x288 with 1 Axes>"
      ]
     },
     "metadata": {
      "needs_background": "light"
     },
     "output_type": "display_data"
    }
   ],
   "source": [
    "dict_crosstabs=dict()\n",
    "for column in list(df.columns[1:len(df.columns)]): \n",
    "    dict_crosstabs[column]=pd.DataFrame(pd.crosstab(df.employed, df[column], normalize='columns').iloc[0:1,:])\n",
    "    dict_crosstabs[column].plot.bar()\n",
    "    plt.show()"
   ]
  },
  {
   "cell_type": "code",
   "execution_count": 226,
   "metadata": {},
   "outputs": [],
   "source": [
    "def cramers_corrected_stat(confusion_matrix):\n",
    "    \"\"\" calculate Cramers V statistic for categorical-categorical association.\n",
    "        uses correction from Bergsma and Wicher, \n",
    "        Journal of the Korean Statistical Society 42 (2013): 323-328\n",
    "    \"\"\"\n",
    "    chi2 = ss.chi2_contingency(confusion_matrix)[0]\n",
    "    n = confusion_matrix.sum().sum()\n",
    "    phi2 = chi2/n\n",
    "    r,k = confusion_matrix.shape\n",
    "    phi2corr = max(0, phi2 - ((k-1)*(r-1))/(n-1))    \n",
    "    rcorr = r - ((r-1)**2)/(n-1)\n",
    "    kcorr = k - ((k-1)**2)/(n-1)\n",
    "    return np.sqrt(phi2corr / min( (kcorr-1), (rcorr-1)))\n"
   ]
  },
  {
   "cell_type": "code",
   "execution_count": 227,
   "metadata": {},
   "outputs": [
    {
     "data": {
      "image/png": "[encoded data removed]",
      "text/plain": [
       "<Figure size 504x432 with 2 Axes>"
      ]
     },
     "metadata": {
      "needs_background": "light"
     },
     "output_type": "display_data"
    }
   ],
   "source": [
    "cols = list(df.columns)\n",
    "corrM = np.zeros((len(cols),len(cols)))\n",
    "# there's probably a nice pandas way to do this\n",
    "for col1, col2 in itertools.combinations(cols, 2):\n",
    "    idx1, idx2 = cols.index(col1), cols.index(col2)\n",
    "    corrM[idx1, idx2] = cramers_corrected_stat(pd.crosstab(df[col1], df[col2]))\n",
    "    corrM[idx2, idx1] = corrM[idx1, idx2]\n",
    "\n",
    "corr = pd.DataFrame(corrM, index=cols, columns=cols)\n",
    "fig, ax = plt.subplots(figsize=(7, 6))\n",
    "ax = sns.heatmap(corr, annot=True, ax=ax); ax.set_title(\"Cramer V Correlation between Variables\");"
   ]
  },
  {
   "cell_type": "markdown",
   "metadata": {
    "code_folding": []
   },
   "source": [
    "## Select features"
   ]
  },
  {
   "cell_type": "markdown",
   "metadata": {},
   "source": [
    "Start with 3 explanatory variables for now. "
   ]
  },
  {
   "cell_type": "code",
   "execution_count": 228,
   "metadata": {},
   "outputs": [
    {
     "name": "stdout",
     "output_type": "stream",
     "text": [
      "(43325,)\n"
     ]
    }
   ],
   "source": [
    "X = df[['marriage_status', \"education_level\", \"education_field\", \"age_group\"]]\n",
    "y = df['employed']\n",
    "print(y.shape)\n"
   ]
  },
  {
   "cell_type": "markdown",
   "metadata": {},
   "source": [
    "## Separate the training data from the test data"
   ]
  },
  {
   "cell_type": "code",
   "execution_count": 229,
   "metadata": {},
   "outputs": [
    {
     "name": "stdout",
     "output_type": "stream",
     "text": [
      "X_train:        marriage_status  education_level  education_field  age_group\n",
      "19709                2            600.0            300.0          9\n",
      "7768                 2            200.0           9999.0         11\n",
      "31648                2            400.0            500.0          7\n",
      "1084                 4            500.0            500.0          9\n",
      "24443                1            100.0           9999.0         12\n",
      " y_train: 19709    1.0\n",
      "7768     1.0\n",
      "31648    1.0\n",
      "1084     1.0\n",
      "24443    1.0\n",
      "Name: employed, dtype: float64\n",
      "\n",
      "X_test:        marriage_status  education_level  education_field  age_group\n",
      "31289                2            600.0            700.0         10\n",
      "17323                2            304.0           9999.0         12\n",
      "41561                2            200.0           9999.0         10\n",
      "22227                2            600.0            500.0         11\n",
      "38391                2            400.0            500.0          7\n",
      " y_test: 31289    1.0\n",
      "17323    1.0\n",
      "41561    1.0\n",
      "22227    1.0\n",
      "38391    1.0\n",
      "Name: employed, dtype: float64\n",
      "\n"
     ]
    }
   ],
   "source": [
    "X_train, X_test, y_train, y_test = train_test_split(X, y, random_state=49)\n",
    "print(f'X_train: {X_train[:5]}\\n', f'y_train: {y_train[:5]}\\n')\n",
    "print(f'X_test: {X_test[:5]}\\n', f'y_test: {y_test[:5]}\\n')"
   ]
  },
  {
   "cell_type": "markdown",
   "metadata": {},
   "source": [
    "## Choose the model\n",
    "\n",
    "Decision Tree Classification Model. "
   ]
  },
  {
   "cell_type": "code",
   "execution_count": 266,
   "metadata": {},
   "outputs": [],
   "source": [
    "from sklearn.tree import DecisionTreeClassifier, export_graphviz\n",
    "model = DecisionTreeClassifier(max_depth=3, criterion='entropy')\n"
   ]
  },
  {
   "cell_type": "markdown",
   "metadata": {},
   "source": [
    "## Train the model (fit the model)"
   ]
  },
  {
   "cell_type": "code",
   "execution_count": 267,
   "metadata": {},
   "outputs": [],
   "source": [
    "fitted = model.fit(X_train,y_train)\n"
   ]
  },
  {
   "cell_type": "markdown",
   "metadata": {},
   "source": [
    "\n",
    "## Predict (classify unknown input sample)"
   ]
  },
  {
   "cell_type": "code",
   "execution_count": 268,
   "metadata": {},
   "outputs": [],
   "source": [
    "y_pred = fitted.predict(X_test)\n"
   ]
  },
  {
   "cell_type": "markdown",
   "metadata": {},
   "source": [
    "## Evaluate the model"
   ]
  },
  {
   "cell_type": "code",
   "execution_count": 272,
   "metadata": {},
   "outputs": [
    {
     "data": {
      "text/plain": [
       "(array([0.89207903, 0.        ]),\n",
       " array([1., 0.]),\n",
       " array([0.9429617, 0.       ]),\n",
       " array([9663, 1169], dtype=int64))"
      ]
     },
     "execution_count": 272,
     "metadata": {},
     "output_type": "execute_result"
    }
   ],
   "source": [
    "precision_recall_fscore_support(y_test, y_pred)"
   ]
  },
  {
   "cell_type": "code",
   "execution_count": 270,
   "metadata": {},
   "outputs": [
    {
     "data": {
      "text/plain": [
       "-1169.0"
      ]
     },
     "execution_count": 270,
     "metadata": {},
     "output_type": "execute_result"
    }
   ],
   "source": [
    "c=y_pred-y_test\n",
    "c.sum()"
   ]
  },
  {
   "cell_type": "code",
   "execution_count": 271,
   "metadata": {},
   "outputs": [
    {
     "data": {
      "text/plain": [
       "[Text(167.4, 190.26, 'X[1] <= 450.0\\nentropy = 0.495\\nsamples = 32493\\nvalue = [28967, 3526]'),\n",
       " Text(83.7, 135.9, 'X[0] <= 1.5\\nentropy = 0.613\\nsamples = 18440\\nvalue = [15653, 2787]'),\n",
       " Text(41.85, 81.53999999999999, 'X[1] <= 250.0\\nentropy = 0.781\\nsamples = 6971\\nvalue = [5356, 1615]'),\n",
       " Text(20.925, 27.180000000000007, 'entropy = 0.923\\nsamples = 1828\\nvalue = [1210, 618]'),\n",
       " Text(62.775000000000006, 27.180000000000007, 'entropy = 0.709\\nsamples = 5143\\nvalue = [4146, 997]'),\n",
       " Text(125.55000000000001, 81.53999999999999, 'X[1] <= 301.5\\nentropy = 0.476\\nsamples = 11469\\nvalue = [10297, 1172]'),\n",
       " Text(104.625, 27.180000000000007, 'entropy = 0.601\\nsamples = 4171\\nvalue = [3560, 611]'),\n",
       " Text(146.475, 27.180000000000007, 'entropy = 0.391\\nsamples = 7298\\nvalue = [6737, 561]'),\n",
       " Text(251.10000000000002, 135.9, 'X[0] <= 1.5\\nentropy = 0.297\\nsamples = 14053\\nvalue = [13314, 739]'),\n",
       " Text(209.25, 81.53999999999999, 'X[1] <= 650.0\\nentropy = 0.417\\nsamples = 5100\\nvalue = [4670, 430]'),\n",
       " Text(188.32500000000002, 27.180000000000007, 'entropy = 0.447\\nsamples = 4111\\nvalue = [3728, 383]'),\n",
       " Text(230.175, 27.180000000000007, 'entropy = 0.276\\nsamples = 989\\nvalue = [942, 47]'),\n",
       " Text(292.95, 81.53999999999999, 'X[0] <= 3.5\\nentropy = 0.217\\nsamples = 8953\\nvalue = [8644, 309]'),\n",
       " Text(272.02500000000003, 27.180000000000007, 'entropy = 0.2\\nsamples = 8432\\nvalue = [8169, 263]'),\n",
       " Text(313.875, 27.180000000000007, 'entropy = 0.431\\nsamples = 521\\nvalue = [475, 46]')]"
      ]
     },
     "execution_count": 271,
     "metadata": {},
     "output_type": "execute_result"
    },
    {
     "data": {
      "image/png": "[encoded data removed]",
      "text/plain": [
       "<Figure size 432x288 with 1 Axes>"
      ]
     },
     "metadata": {
      "needs_background": "light"
     },
     "output_type": "display_data"
    }
   ],
   "source": [
    "from sklearn import tree\n",
    "tree.plot_tree(model)\n"
   ]
  },
  {
   "cell_type": "code",
   "execution_count": 235,
   "metadata": {},
   "outputs": [],
   "source": [
    "#from IPython.display import Image\n",
    "#from sklearn.externals.six import StringIO  \n",
    "#from sklearn.tree import export_graphviz\n",
    "#import pydotplus"
   ]
  },
  {
   "cell_type": "code",
   "execution_count": 238,
   "metadata": {},
   "outputs": [
    {
     "ename": "InvocationException",
     "evalue": "GraphViz's executables not found",
     "output_type": "error",
     "traceback": [
      "\u001b[1;31m---------------------------------------------------------------------------\u001b[0m",
      "\u001b[1;31mInvocationException\u001b[0m                       Traceback (most recent call last)",
      "\u001b[1;32m<ipython-input-238-c1d5310233f1>\u001b[0m in \u001b[0;36m<module>\u001b[1;34m\u001b[0m\n\u001b[0;32m      4\u001b[0m                 special_characters=True)\n\u001b[0;32m      5\u001b[0m \u001b[0mgraph\u001b[0m \u001b[1;33m=\u001b[0m \u001b[0mpydotplus\u001b[0m\u001b[1;33m.\u001b[0m\u001b[0mgraph_from_dot_data\u001b[0m\u001b[1;33m(\u001b[0m\u001b[0mdot_data\u001b[0m\u001b[1;33m.\u001b[0m\u001b[0mgetvalue\u001b[0m\u001b[1;33m(\u001b[0m\u001b[1;33m)\u001b[0m\u001b[1;33m)\u001b[0m\u001b[1;33m\u001b[0m\u001b[1;33m\u001b[0m\u001b[0m\n\u001b[1;32m----> 6\u001b[1;33m \u001b[0mImage\u001b[0m\u001b[1;33m(\u001b[0m\u001b[0mgraph\u001b[0m\u001b[1;33m.\u001b[0m\u001b[0mcreate_png\u001b[0m\u001b[1;33m(\u001b[0m\u001b[1;33m)\u001b[0m\u001b[1;33m)\u001b[0m\u001b[1;33m\u001b[0m\u001b[1;33m\u001b[0m\u001b[0m\n\u001b[0m",
      "\u001b[1;32m~\\AppData\\Local\\Continuum\\anaconda3\\lib\\site-packages\\pydotplus\\graphviz.py\u001b[0m in \u001b[0;36m<lambda>\u001b[1;34m(f, prog)\u001b[0m\n\u001b[0;32m   1795\u001b[0m             self.__setattr__(\n\u001b[0;32m   1796\u001b[0m                 \u001b[1;34m'create_'\u001b[0m \u001b[1;33m+\u001b[0m \u001b[0mfrmt\u001b[0m\u001b[1;33m,\u001b[0m\u001b[1;33m\u001b[0m\u001b[1;33m\u001b[0m\u001b[0m\n\u001b[1;32m-> 1797\u001b[1;33m                 \u001b[1;32mlambda\u001b[0m \u001b[0mf\u001b[0m\u001b[1;33m=\u001b[0m\u001b[0mfrmt\u001b[0m\u001b[1;33m,\u001b[0m \u001b[0mprog\u001b[0m\u001b[1;33m=\u001b[0m\u001b[0mself\u001b[0m\u001b[1;33m.\u001b[0m\u001b[0mprog\u001b[0m\u001b[1;33m:\u001b[0m \u001b[0mself\u001b[0m\u001b[1;33m.\u001b[0m\u001b[0mcreate\u001b[0m\u001b[1;33m(\u001b[0m\u001b[0mformat\u001b[0m\u001b[1;33m=\u001b[0m\u001b[0mf\u001b[0m\u001b[1;33m,\u001b[0m \u001b[0mprog\u001b[0m\u001b[1;33m=\u001b[0m\u001b[0mprog\u001b[0m\u001b[1;33m)\u001b[0m\u001b[1;33m\u001b[0m\u001b[1;33m\u001b[0m\u001b[0m\n\u001b[0m\u001b[0;32m   1798\u001b[0m             )\n\u001b[0;32m   1799\u001b[0m             \u001b[0mf\u001b[0m \u001b[1;33m=\u001b[0m \u001b[0mself\u001b[0m\u001b[1;33m.\u001b[0m\u001b[0m__dict__\u001b[0m\u001b[1;33m[\u001b[0m\u001b[1;34m'create_'\u001b[0m \u001b[1;33m+\u001b[0m \u001b[0mfrmt\u001b[0m\u001b[1;33m]\u001b[0m\u001b[1;33m\u001b[0m\u001b[1;33m\u001b[0m\u001b[0m\n",
      "\u001b[1;32m~\\AppData\\Local\\Continuum\\anaconda3\\lib\\site-packages\\pydotplus\\graphviz.py\u001b[0m in \u001b[0;36mcreate\u001b[1;34m(self, prog, format)\u001b[0m\n\u001b[0;32m   1958\u001b[0m             \u001b[1;32mif\u001b[0m \u001b[0mself\u001b[0m\u001b[1;33m.\u001b[0m\u001b[0mprogs\u001b[0m \u001b[1;32mis\u001b[0m \u001b[1;32mNone\u001b[0m\u001b[1;33m:\u001b[0m\u001b[1;33m\u001b[0m\u001b[1;33m\u001b[0m\u001b[0m\n\u001b[0;32m   1959\u001b[0m                 raise InvocationException(\n\u001b[1;32m-> 1960\u001b[1;33m                     'GraphViz\\'s executables not found')\n\u001b[0m\u001b[0;32m   1961\u001b[0m \u001b[1;33m\u001b[0m\u001b[0m\n\u001b[0;32m   1962\u001b[0m         \u001b[1;32mif\u001b[0m \u001b[0mprog\u001b[0m \u001b[1;32mnot\u001b[0m \u001b[1;32min\u001b[0m \u001b[0mself\u001b[0m\u001b[1;33m.\u001b[0m\u001b[0mprogs\u001b[0m\u001b[1;33m:\u001b[0m\u001b[1;33m\u001b[0m\u001b[1;33m\u001b[0m\u001b[0m\n",
      "\u001b[1;31mInvocationException\u001b[0m: GraphViz's executables not found"
     ]
    }
   ],
   "source": [
    "#dot_data = StringIO()\n",
    "#export_graphviz(model, out_file=dot_data,  \n",
    "#                filled=True, rounded=True,\n",
    "#                special_characters=True)\n",
    "#graph = pydotplus.graph_from_dot_data(dot_data.getvalue())  \n",
    "#Image(graph.create_png())"
   ]
  },
  {
   "cell_type": "code",
   "execution_count": null,
   "metadata": {},
   "outputs": [],
   "source": []
  }
 ],
 "metadata": {
  "jupytext": {},
  "kernelspec": {
   "display_name": "Python 3",
   "language": "python",
   "name": "python3"
  },
  "language_info": {
   "codemirror_mode": {
    "name": "ipython",
    "version": 3
   },
   "file_extension": ".py",
   "mimetype": "text/x-python",
   "name": "python",
   "nbconvert_exporter": "python",
   "pygments_lexer": "ipython3",
   "version": "3.7.3"
  },
  "toc": {
   "base_numbering": 1,
   "nav_menu": {},
   "number_sections": true,
   "sideBar": true,
   "skip_h1_title": true,
   "title_cell": "Table of Contents",
   "title_sidebar": "Content",
   "toc_cell": false,
   "toc_position": {
    "height": "calc(100% - 180px)",
    "left": "10px",
    "top": "150px",
    "width": "165px"
   },
   "toc_section_display": true,
   "toc_window_display": true
  }
 },
 "nbformat": 4,
 "nbformat_minor": 4
}
